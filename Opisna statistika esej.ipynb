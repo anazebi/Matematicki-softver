{
 "cells": [
  {
   "cell_type": "markdown",
   "id": "d8e6935a",
   "metadata": {},
   "source": [
    "# OPISNA STATISTIKA U PYTHONU"
   ]
  },
  {
   "cell_type": "markdown",
   "id": "a703bb3a",
   "metadata": {},
   "source": [
    "## Uvod"
   ]
  },
  {
   "cell_type": "markdown",
   "id": "e578c038",
   "metadata": {},
   "source": [
    "<div style = \"text-align: justify\"> <b style = \"color : red\">Opisna (deskriptivna)</b> statistika prvi je korak u analizi varijabli rezultata istraživanja. Ona uključuje niz statističkih parametara koji opisuju varijable. Kao prvi korak u prikazu podataka koriste se upravo parametri opisne statistike i slikovni prikazi raspodjela podataka. Glavna je zadaća deskriptivne statistike proučvanje, opis, prikaz i enkapsulacija glavnih svojstava danoga skupa podataka korištenog u pojedinom istraživanju. Temeljito izučavanje podataka metodama opisne statistike pomaže pri boljem razumijevanju danoga skupa podataka te daljnim istraživanjem dobivenih rezultata o cjelokupnoj populaciji iz koje su promatrani podaci slučajno uzorkovani.</div>"
   ]
  },
  {
   "cell_type": "markdown",
   "id": "4fd4415a",
   "metadata": {},
   "source": [
    "## Metode opisne statistike"
   ]
  },
  {
   "cell_type": "markdown",
   "id": "5a3b1e3b",
   "metadata": {},
   "source": [
    "<div style = \"text-align: justify\">Metode opisne statistike kojima uočavamo karakteristike, pravilnosti ili pak nepravilnosti danoga skupa podataka mogu biti numeričke ili grafičke. Za kvalitetnu analizu skupa podataka potrebno je koristiti metode obiju skupina prikladne tipu podataka s kojim radimo. </div>\n",
    "\n",
    "Većina numeričkih mjera korištenih u deskriptivnoj statistici može se podijeliti u dvije velike skupine:\n",
    "1. Mjere centralne tendencije\n",
    "2. Mjere raspršenja\n",
    "\n",
    "U **mjere centralne tendencije** ubrajamo:\n",
    "* Aritmetičku sredinu\n",
    "* Geometrijsku sredinu\n",
    "* Harmonijsku sredinu\n",
    "* Medijan\n",
    "* Mod\n",
    "\n",
    "U **mjere raspršenja** ubrajamo: \n",
    "* Raspon\n",
    "* Interkvartil\n",
    "* Uzoračku varijancu\n",
    "* Standardnu devijaciju"
   ]
  },
  {
   "cell_type": "markdown",
   "id": "2b674eee",
   "metadata": {},
   "source": [
    "Osim prethodno navedenih mjera, za dublje istraživanje i shvaćanje svojstava danog skupa podataka koriste se mnogi grafički prikazi i modeli. **Vizualna reprezentacija podataka** često pomaže da uočimo dodatne detalje u danome skupu podataka i dobijemo bolju percepciju o skupu u cjelosti, a postiže se pomoću sljedećih grafova:\n",
    "* Dijagram točaka\n",
    "* Histogram\n",
    "* *Stem-and-leaf* dijagram\n",
    "* Stupčasti dijagram\n",
    "* Strukturni dijagram\n",
    "* Dijagram pravokutnika"
   ]
  },
  {
   "cell_type": "markdown",
   "id": "8aa4cb65",
   "metadata": {},
   "source": [
    "<div style = \"text-align: justify\">\n",
    "Tijekom izvođenja eksperimenta ili istraživanja opaža se, odnosno mjeri, neko numeričko ili nenumeričko statističko obilježje ili varijabla $X$. \n",
    "    \n",
    "Rezultat mjerenja varijable $X$ na jednoj statističkoj jedinici označit ćemo sa $x$. \n",
    "    \n",
    "Opažene vrijednosti $x_1, x_2, ... x_n$ varijable $X$ na određenom statističkom skupu $\\Omega$ čine skup podataka o obilježju $X$ na tome skupu. </div>"
   ]
  },
  {
   "cell_type": "markdown",
   "id": "758bf58b",
   "metadata": {},
   "source": [
    "## Kaggle natjecanje"
   ]
  },
  {
   "cell_type": "code",
   "execution_count": null,
   "id": "b7a35aaa",
   "metadata": {},
   "outputs": [],
   "source": []
  }
 ],
 "metadata": {
  "kernelspec": {
   "display_name": "Python 3 (ipykernel)",
   "language": "python",
   "name": "python3"
  },
  "language_info": {
   "codemirror_mode": {
    "name": "ipython",
    "version": 3
   },
   "file_extension": ".py",
   "mimetype": "text/x-python",
   "name": "python",
   "nbconvert_exporter": "python",
   "pygments_lexer": "ipython3",
   "version": "3.9.12"
  }
 },
 "nbformat": 4,
 "nbformat_minor": 5
}
