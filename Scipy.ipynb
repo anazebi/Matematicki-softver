{
 "cells": [
  {
   "cell_type": "markdown",
   "metadata": {},
   "source": [
    "# Scipy"
   ]
  },
  {
   "cell_type": "markdown",
   "metadata": {},
   "source": [
    "Scipy zapravo nije jedna biblioteka, nego paket koji se sastoji od raznovrsnih biblioteka koje nemaju jedinstveni \"žarišni objekt\" (kao što je `ndarray` za Numpy, `DataFrame` za Pandas, ili `Axes` za Matplotlib) oko kojeg su koncentrirane. Zato obično ne uvozimo scipy kao takav, nego pojedine biblioteke."
   ]
  },
  {
   "cell_type": "markdown",
   "metadata": {},
   "source": [
    "## special"
   ]
  },
  {
   "cell_type": "code",
   "execution_count": 1,
   "metadata": {},
   "outputs": [],
   "source": [
    "from scipy import special"
   ]
  },
  {
   "cell_type": "markdown",
   "metadata": {},
   "source": [
    "Razne specijalne funkcije (rješenja važnih diferencijalnih jednadžbi): Airyjeve, Besselove/Kelvinove, Mathieuove, Struveove, ...; i distribucije: beta, gama, hipergeometrijska, ...\n",
    "\n",
    "Mogu se pozvati s Numpyjevim tenzorima (uz uobičajeni broadcasting), a neke i s kompleksnim brojevima."
   ]
  },
  {
   "cell_type": "code",
   "execution_count": 2,
   "metadata": {},
   "outputs": [
    {
     "data": {
      "text/plain": [
       "0.7651976865579665"
      ]
     },
     "execution_count": 2,
     "metadata": {},
     "output_type": "execute_result"
    }
   ],
   "source": [
    "special.j0(1)"
   ]
  },
  {
   "cell_type": "markdown",
   "metadata": {},
   "source": [
    "## integrate"
   ]
  },
  {
   "cell_type": "code",
   "execution_count": 3,
   "metadata": {},
   "outputs": [],
   "source": [
    "from scipy import integrate"
   ]
  },
  {
   "cell_type": "markdown",
   "metadata": {},
   "source": [
    "Razne metode numeričke integracije, bilo općenitih funkcija zadanih izrazom, tablicama, ili pri numeričkom rješavanju diferencijalnih jednadžbi."
   ]
  },
  {
   "cell_type": "markdown",
   "metadata": {},
   "source": [
    "$\\int_{-2}^3\\left|x\\right|\\,dx\\approx$"
   ]
  },
  {
   "cell_type": "code",
   "execution_count": 4,
   "metadata": {},
   "outputs": [
    {
     "name": "stdout",
     "output_type": "stream",
     "text": [
      "6.500000000000002 ± 7.216449660063519e-15\n"
     ]
    }
   ],
   "source": [
    "print(*integrate.quad(abs, -2, 3), sep=' ± ')"
   ]
  },
  {
   "cell_type": "markdown",
   "metadata": {},
   "source": [
    "$\\int_{\\frac13}^{\\frac12}\\int_{2x}^{\\infty}x^y\\,dx\\,dy\\approx$"
   ]
  },
  {
   "cell_type": "code",
   "execution_count": 5,
   "metadata": {},
   "outputs": [
    {
     "name": "stdout",
     "output_type": "stream",
     "text": [
      "! Velika greška: 100.0%\n"
     ]
    },
    {
     "name": "stderr",
     "output_type": "stream",
     "text": [
      "/home/veky/.local/lib/python3.8/site-packages/scipy/integrate/_quadpack_py.py:879: IntegrationWarning: The integral is probably divergent, or slowly convergent.\n",
      "  quad_r = quad(f, low, high, args=args, full_output=self.full_output,\n"
     ]
    },
    {
     "data": {
      "text/plain": [
       "-0.09122982508928275"
      ]
     },
     "execution_count": 5,
     "metadata": {},
     "output_type": "execute_result"
    }
   ],
   "source": [
    "integral, greška = integrate.dblquad(pow, 1/3, 1/2, lambda x: 2*x, lambda x: float('inf'))\n",
    "if greška > 0.01: print(f'! Velika greška: {greška:.1%}')\n",
    "integral"
   ]
  },
  {
   "cell_type": "markdown",
   "metadata": {},
   "source": [
    "Ako već nemamo ugrađenu funkciju koju želimo integrirati, odnosno funkciju koja vraća granicu integracije za neku od sljedećih varijabli (osim prve), uvijek ih možemo konstruirati pomoću `def` ili `lambda`."
   ]
  },
  {
   "cell_type": "markdown",
   "metadata": {},
   "source": [
    "Odredimo numerički trostruki integral (u Kartezijevim koordinatama) koji predstavlja volumen jedinične kugle u $\\mathbb R^3$, i provjerimo da se njegova točna vrijednost $\\frac43\\pi$ nalazi unutar intervala numeričke preciznosti."
   ]
  },
  {
   "cell_type": "code",
   "execution_count": 6,
   "metadata": {},
   "outputs": [
    {
     "data": {
      "text/plain": [
       "True"
      ]
     },
     "execution_count": 6,
     "metadata": {},
     "output_type": "execute_result"
    }
   ],
   "source": [
    "import numpy as np\n",
    "integral, greška = integrate.tplquad(lambda x, y, z: 1,  # gustoća koju integriramo\n",
    "    -1, 1,  # granice po x\n",
    "    lambda x: -np.sqrt(1-x**2), lambda x: np.sqrt(1-x**2),  # granice po y\n",
    "    lambda x, y: -np.sqrt(1-x**2-y**2), lambda x, y: np.sqrt(1-x**2-y**2)  # granice po z\n",
    ")\n",
    "abs(integral - 4/3 * np.pi) < greška < 1e-6"
   ]
  },
  {
   "cell_type": "markdown",
   "metadata": {},
   "source": [
    "## optimize"
   ]
  },
  {
   "cell_type": "code",
   "execution_count": 7,
   "metadata": {},
   "outputs": [],
   "source": [
    "from scipy import optimize"
   ]
  },
  {
   "cell_type": "markdown",
   "metadata": {},
   "source": [
    "Razne metode optimizacije (minimizacije/maksimizacije, linearnog programiranja, pridruživanja/sparivanja, ...)."
   ]
  },
  {
   "cell_type": "code",
   "execution_count": 8,
   "metadata": {},
   "outputs": [
    {
     "data": {
      "text/plain": [
       "     fun: 0.6922006275553464\n",
       " message: '\\nOptimization terminated successfully;\\nThe returned value satisfies the termination criteria\\n(using xtol = 1.48e-08 )'\n",
       "    nfev: 16\n",
       "     nit: 12\n",
       " success: True\n",
       "       x: 0.3678794467032398"
      ]
     },
     "execution_count": 8,
     "metadata": {},
     "output_type": "execute_result"
    }
   ],
   "source": [
    "(ekstrem := optimize.minimize_scalar(lambda x: x**x, method='brent'))"
   ]
  },
  {
   "cell_type": "code",
   "execution_count": 9,
   "metadata": {},
   "outputs": [
    {
     "data": {
      "text/plain": [
       "(0.3678794467032398, 0.6922006275553464)"
      ]
     },
     "execution_count": 9,
     "metadata": {},
     "output_type": "execute_result"
    }
   ],
   "source": [
    "ekstrem.x, ekstrem.fun"
   ]
  },
  {
   "cell_type": "code",
   "execution_count": 10,
   "metadata": {},
   "outputs": [
    {
     "data": {
      "text/plain": [
       "5.53179746454191e-09"
      ]
     },
     "execution_count": 10,
     "metadata": {},
     "output_type": "execute_result"
    }
   ],
   "source": [
    "ekstrem.x - np.exp(-1)"
   ]
  },
  {
   "cell_type": "markdown",
   "metadata": {},
   "source": [
    "Također ima metode za traženje nultočaka, fiksnih točaka, i sličnog."
   ]
  },
  {
   "cell_type": "code",
   "execution_count": 11,
   "metadata": {},
   "outputs": [
    {
     "data": {
      "text/plain": [
       "    fjac: array([[-1.]])\n",
       "     fun: array([2.4492936e-16])\n",
       " message: 'The solution converged.'\n",
       "    nfev: 6\n",
       "     qtf: array([1.03189166e-09])\n",
       "       r: array([-1.])\n",
       "  status: 1\n",
       " success: True\n",
       "       x: array([-6.28318531])"
      ]
     },
     "execution_count": 11,
     "metadata": {},
     "output_type": "execute_result"
    }
   ],
   "source": [
    "optimize.root(np.sin, -6)"
   ]
  },
  {
   "cell_type": "code",
   "execution_count": 12,
   "metadata": {},
   "outputs": [
    {
     "data": {
      "text/plain": [
       "True"
      ]
     },
     "execution_count": 12,
     "metadata": {},
     "output_type": "execute_result"
    }
   ],
   "source": [
    "import functools\n",
    "fix = functools.partial(optimize.fixed_point, x0=1)\n",
    "fix(np.arccos) == fix(np.cos)"
   ]
  },
  {
   "cell_type": "markdown",
   "metadata": {},
   "source": [
    "## interpolate"
   ]
  },
  {
   "cell_type": "markdown",
   "metadata": {},
   "source": [
    "Interpolacije u jednoj ili više dimenzija, splajnovi, opcionalno zaglađivanje, ..."
   ]
  },
  {
   "cell_type": "code",
   "execution_count": 13,
   "metadata": {},
   "outputs": [],
   "source": [
    "from scipy import interpolate"
   ]
  },
  {
   "cell_type": "code",
   "execution_count": 14,
   "metadata": {},
   "outputs": [],
   "source": [
    "xevi = np.pi / np.array([np.inf, 6, 4, 3, 2])\n",
    "yovi = np.sqrt(np.arange(5)) / 2\n",
    "assert np.allclose(np.sin(xevi), yovi)"
   ]
  },
  {
   "cell_type": "code",
   "execution_count": 15,
   "metadata": {},
   "outputs": [],
   "source": [
    "splajn = interpolate.splrep(xevi, yovi)\n",
    "assert np.allclose(interpolate.splev(xevi, splajn), yovi)"
   ]
  },
  {
   "cell_type": "code",
   "execution_count": 16,
   "metadata": {},
   "outputs": [
    {
     "data": {
      "text/plain": [
       "0.0008894208100640455"
      ]
     },
     "execution_count": 16,
     "metadata": {},
     "output_type": "execute_result"
    }
   ],
   "source": [
    "punox = np.linspace(0, np.pi/2)\n",
    "punoy = interpolate.splev(punox, splajn)\n",
    "np.max(np.abs(np.sin(punox) - punoy))"
   ]
  },
  {
   "cell_type": "code",
   "execution_count": 17,
   "metadata": {},
   "outputs": [],
   "source": [
    "import matplotlib.pyplot as plt\n",
    "%matplotlib inline"
   ]
  },
  {
   "cell_type": "code",
   "execution_count": 18,
   "metadata": {},
   "outputs": [
    {
     "data": {
      "text/plain": [
       "[<matplotlib.lines.Line2D at 0x7fbe8cc022b0>,\n",
       " <matplotlib.lines.Line2D at 0x7fbe8cc02130>,\n",
       " <matplotlib.lines.Line2D at 0x7fbe8cc02220>]"
      ]
     },
     "execution_count": 18,
     "metadata": {},
     "output_type": "execute_result"
    },
    {
     "data": {
      "image/png": "[encoded data removed]",
      "text/plain": [
       "<Figure size 432x288 with 1 Axes>"
      ]
     },
     "metadata": {
      "needs_background": "light"
     },
     "output_type": "display_data"
    }
   ],
   "source": [
    "višex = np.linspace(-3, 3)\n",
    "plt.plot(xevi,  yovi,                             'x',\n",
    "         višex, interpolate.splev(višex, splajn), 'b',\n",
    "         višex, np.sin(višex),                    'r')"
   ]
  },
  {
   "cell_type": "markdown",
   "metadata": {},
   "source": [
    "Jedan kvaziduhoviti primjer: https://py.checkio.org/mission/sun-angle/publications/veky/python-3/figure-it-out-yourself/"
   ]
  },
  {
   "cell_type": "markdown",
   "metadata": {},
   "source": [
    "## fft, signal"
   ]
  },
  {
   "cell_type": "markdown",
   "metadata": {},
   "source": [
    "Brza (i inverzna) Fourierova transformacija, u jednoj ili više dimenzija, diskretna sinusna/kosinusna transformacija, Hankelova transformacija, ...; obrada signala"
   ]
  },
  {
   "cell_type": "markdown",
   "metadata": {},
   "source": [
    "## linalg"
   ]
  },
  {
   "cell_type": "code",
   "execution_count": 19,
   "metadata": {},
   "outputs": [],
   "source": [
    "from scipy import linalg"
   ]
  },
  {
   "cell_type": "markdown",
   "metadata": {},
   "source": [
    "Razne funkcije iz linearne algebre; uglavnom se pozivaju na Numpyjevim tenzorima."
   ]
  },
  {
   "cell_type": "code",
   "execution_count": 20,
   "metadata": {},
   "outputs": [
    {
     "data": {
      "text/plain": [
       "array([[ 5.00000000e-01, -1.00000000e+00,  5.00000000e-01,\n",
       "         8.32667268e-17],\n",
       "       [ 1.00000000e+00, -2.00000000e+00,  1.11022302e-16,\n",
       "         1.00000000e+00],\n",
       "       [ 1.00000000e+00, -1.00000000e+00,  0.00000000e+00,\n",
       "         0.00000000e+00],\n",
       "       [-3.50000000e+00,  6.00000000e+00, -5.00000000e-01,\n",
       "        -1.00000000e+00]])"
      ]
     },
     "execution_count": 20,
     "metadata": {},
     "output_type": "execute_result"
    }
   ],
   "source": [
    "A = np.array([[1, 1, 3, 1],\n",
    "              [1, 1, 2, 1],\n",
    "              [3, 1, 1, 1],\n",
    "              [1, 2, 1, 1]])\n",
    "linalg.inv(A)"
   ]
  },
  {
   "cell_type": "code",
   "execution_count": 21,
   "metadata": {},
   "outputs": [
    {
     "data": {
      "text/plain": [
       "True"
      ]
     },
     "execution_count": 21,
     "metadata": {},
     "output_type": "execute_result"
    }
   ],
   "source": [
    "np.allclose(A @ _, np.eye(len(A)))"
   ]
  },
  {
   "cell_type": "code",
   "execution_count": 22,
   "metadata": {},
   "outputs": [
    {
     "data": {
      "text/plain": [
       "array([ 2., -3., -1.,  6.])"
      ]
     },
     "execution_count": 22,
     "metadata": {},
     "output_type": "execute_result"
    }
   ],
   "source": [
    "linalg.solve(A, b := [2, 3, 8, 1])"
   ]
  },
  {
   "cell_type": "code",
   "execution_count": 23,
   "metadata": {},
   "outputs": [
    {
     "data": {
      "text/plain": [
       "True"
      ]
     },
     "execution_count": 23,
     "metadata": {},
     "output_type": "execute_result"
    }
   ],
   "source": [
    "np.allclose(A @ _, b)"
   ]
  },
  {
   "cell_type": "code",
   "execution_count": 24,
   "metadata": {},
   "outputs": [
    {
     "data": {
      "text/plain": [
       "4.692425475051633e+186"
      ]
     },
     "execution_count": 24,
     "metadata": {},
     "output_type": "execute_result"
    }
   ],
   "source": [
    "linalg.det(np.random.standard_normal((200, 200)))"
   ]
  },
  {
   "cell_type": "code",
   "execution_count": 25,
   "metadata": {},
   "outputs": [
    {
     "data": {
      "text/plain": [
       "{-inf: 5.0,\n",
       " -2: 0.1311499446826709,\n",
       " -1: 4.0,\n",
       " 1: 7.0,\n",
       " 2: 5.651349661021129,\n",
       " inf: 6.0,\n",
       " 'f': 6.164414002968976}"
      ]
     },
     "execution_count": 25,
     "metadata": {},
     "output_type": "execute_result"
    }
   ],
   "source": [
    "{red: linalg.norm(A, red) for red in (-np.inf, -2, -1, 1, 2, np.inf, 'f')}"
   ]
  },
  {
   "cell_type": "code",
   "execution_count": 26,
   "metadata": {},
   "outputs": [
    {
     "data": {
      "text/plain": [
       "5.651349661021129"
      ]
     },
     "execution_count": 26,
     "metadata": {},
     "output_type": "execute_result"
    }
   ],
   "source": [
    "linalg.norm(A, 2)"
   ]
  },
  {
   "cell_type": "code",
   "execution_count": 27,
   "metadata": {},
   "outputs": [
    {
     "data": {
      "text/plain": [
       "4.0"
      ]
     },
     "execution_count": 27,
     "metadata": {},
     "output_type": "execute_result"
    }
   ],
   "source": [
    "linalg.norm(b, 0)"
   ]
  },
  {
   "cell_type": "code",
   "execution_count": 28,
   "metadata": {},
   "outputs": [],
   "source": [
    "redovi = np.linspace(-5, 5, 41)"
   ]
  },
  {
   "cell_type": "code",
   "execution_count": 29,
   "metadata": {},
   "outputs": [
    {
     "data": {
      "text/plain": [
       "array([-5.  , -4.75, -4.5 , -4.25, -4.  , -3.75, -3.5 , -3.25, -3.  ,\n",
       "       -2.75, -2.5 , -2.25, -2.  , -1.75, -1.5 , -1.25, -1.  , -0.75,\n",
       "       -0.5 , -0.25,  0.  ,  0.25,  0.5 ,  0.75,  1.  ,  1.25,  1.5 ,\n",
       "        1.75,  2.  ,  2.25,  2.5 ,  2.75,  3.  ,  3.25,  3.5 ,  3.75,\n",
       "        4.  ,  4.25,  4.5 ,  4.75,  5.  ])"
      ]
     },
     "execution_count": 29,
     "metadata": {},
     "output_type": "execute_result"
    }
   ],
   "source": [
    "redovi"
   ]
  },
  {
   "cell_type": "markdown",
   "metadata": {},
   "source": [
    "https://www.displayr.com/what-is-linear-regression/"
   ]
  },
  {
   "cell_type": "code",
   "execution_count": 30,
   "metadata": {},
   "outputs": [],
   "source": [
    "prodaja = np.array([651, 762, 856, 1_063, 1_190, 1_298, 1_421, 1_440, 1_518])\n",
    "oglasi = np.array([23, 26, 30, 34, 43, 48, 52, 57, 58])"
   ]
  },
  {
   "cell_type": "code",
   "execution_count": 31,
   "metadata": {},
   "outputs": [
    {
     "data": {
      "text/plain": [
       "[<matplotlib.lines.Line2D at 0x7fbe8aaf98e0>]"
      ]
     },
     "execution_count": 31,
     "metadata": {},
     "output_type": "execute_result"
    },
    {
     "data": {
      "image/png": "[encoded data removed]",
      "text/plain": [
       "<Figure size 432x288 with 1 Axes>"
      ]
     },
     "metadata": {
      "needs_background": "light"
     },
     "output_type": "display_data"
    }
   ],
   "source": [
    "plt.plot(oglasi, prodaja)"
   ]
  },
  {
   "cell_type": "code",
   "execution_count": 32,
   "metadata": {},
   "outputs": [],
   "source": [
    "matrica = np.transpose(np.vstack([oglasi, np.ones_like(oglasi)]))"
   ]
  },
  {
   "cell_type": "code",
   "execution_count": 33,
   "metadata": {},
   "outputs": [
    {
     "name": "stdout",
     "output_type": "stream",
     "text": [
      "prodaja = 23 oglasi + 168\n"
     ]
    },
    {
     "data": {
      "text/plain": [
       "18803.929200803832"
      ]
     },
     "execution_count": 33,
     "metadata": {},
     "output_type": "execute_result"
    }
   ],
   "source": [
    "(k, l), odstupanje, rang, singularne_vrijednosti = linalg.lstsq(matrica, prodaja)\n",
    "assert rang == 2\n",
    "print(f'prodaja = {k:.0f} oglasi + {l:.0f}')\n",
    "odstupanje"
   ]
  },
  {
   "cell_type": "code",
   "execution_count": 34,
   "metadata": {},
   "outputs": [
    {
     "data": {
      "text/plain": [
       "[<matplotlib.lines.Line2D at 0x7fbe8aae6b20>,\n",
       " <matplotlib.lines.Line2D at 0x7fbe8aae6c10>]"
      ]
     },
     "execution_count": 34,
     "metadata": {},
     "output_type": "execute_result"
    },
    {
     "data": {
      "image/png": "[encoded data removed]",
      "text/plain": [
       "<Figure size 432x288 with 1 Axes>"
      ]
     },
     "metadata": {
      "needs_background": "light"
     },
     "output_type": "display_data"
    }
   ],
   "source": [
    "xevi = np.linspace(np.min(oglasi), np.max(oglasi))\n",
    "plt.plot(oglasi, prodaja, 'x', xevi, k * xevi + l, 'b')"
   ]
  },
  {
   "cell_type": "markdown",
   "metadata": {},
   "source": [
    "Ovdje postoje i razne funkcije za rastave matrica: SVD, LU, QR, Schurov, interpolacijski, ...\n",
    "Također brojne matrične funkcije (uobičajeno Numpyjevo ime s dodatkom `m`). `funm` čak može primiti \"bilo kakve\" (vjerojatno ipak analitičke:) funkcije i primijeniti ih na kvadratnu matricu (ili vektor)."
   ]
  },
  {
   "cell_type": "code",
   "execution_count": 35,
   "metadata": {},
   "outputs": [
    {
     "data": {
      "text/plain": [
       "['coshm',\n",
       " 'cosm',\n",
       " 'expm',\n",
       " 'funm',\n",
       " 'logm',\n",
       " 'norm',\n",
       " 'signm',\n",
       " 'sinhm',\n",
       " 'sinm',\n",
       " 'sqrtm',\n",
       " 'tanhm',\n",
       " 'tanm']"
      ]
     },
     "execution_count": 35,
     "metadata": {},
     "output_type": "execute_result"
    }
   ],
   "source": [
    "[ime for ime in dir(linalg) if ime.endswith('m') and '_' not in ime]  # izbacite uljeza! ;-)"
   ]
  },
  {
   "cell_type": "markdown",
   "metadata": {},
   "source": [
    "... i brojne specijalne matrice (Hilbertova, Toeplitzova, Hankelova, Vandermondeova (u Numpy), ...)."
   ]
  },
  {
   "cell_type": "code",
   "execution_count": 36,
   "metadata": {},
   "outputs": [
    {
     "data": {
      "text/plain": [
       "array([[1.        , 0.5       , 0.33333333, 0.25      , 0.2       ],\n",
       "       [0.5       , 0.33333333, 0.25      , 0.2       , 0.16666667],\n",
       "       [0.33333333, 0.25      , 0.2       , 0.16666667, 0.14285714],\n",
       "       [0.25      , 0.2       , 0.16666667, 0.14285714, 0.125     ],\n",
       "       [0.2       , 0.16666667, 0.14285714, 0.125     , 0.11111111]])"
      ]
     },
     "execution_count": 36,
     "metadata": {},
     "output_type": "execute_result"
    }
   ],
   "source": [
    "linalg.hilbert(5)"
   ]
  },
  {
   "cell_type": "code",
   "execution_count": 37,
   "metadata": {},
   "outputs": [
    {
     "data": {
      "text/plain": [
       "array([[    0,     0,     0,     0,     1],\n",
       "       [ 2401,   343,    49,     7,     1],\n",
       "       [65536,  4096,   256,    16,     1],\n",
       "       [ 6561,   729,    81,     9,     1],\n",
       "       [14641,  1331,   121,    11,     1]])"
      ]
     },
     "execution_count": 37,
     "metadata": {},
     "output_type": "execute_result"
    }
   ],
   "source": [
    "np.vander(niz := [0, 7, 16, 9, 11])"
   ]
  },
  {
   "cell_type": "code",
   "execution_count": 38,
   "metadata": {},
   "outputs": [
    {
     "data": {
      "text/plain": [
       "1.0000000000000049"
      ]
     },
     "execution_count": 38,
     "metadata": {},
     "output_type": "execute_result"
    }
   ],
   "source": [
    "import itertools\n",
    "np.prod([x - y for x, y in itertools.combinations(niz, 2)]) / linalg.det(_)"
   ]
  },
  {
   "cell_type": "markdown",
   "metadata": {},
   "source": [
    "## csgraph\n",
    "## spatial"
   ]
  },
  {
   "cell_type": "markdown",
   "metadata": {},
   "source": [
    "Razni algoritmi na grafovima, prostorni algoritmi (Delaunayeva triangulacija, Voronojevi dijagrami, konveksne ljuske, ...)"
   ]
  },
  {
   "cell_type": "markdown",
   "metadata": {},
   "source": [
    "## stats"
   ]
  },
  {
   "cell_type": "markdown",
   "metadata": {},
   "source": [
    "Statistike raznih distribucija, slučajno generiranje, funkcija distribucije i njen inverz, statistički testovi, kvazi Monte Carlo, ..."
   ]
  },
  {
   "cell_type": "markdown",
   "metadata": {},
   "source": [
    "## ndimage"
   ]
  },
  {
   "cell_type": "markdown",
   "metadata": {},
   "source": [
    "Obrada slika (filteri, interpolacija, mjere, transformacije, ...)"
   ]
  },
  {
   "cell_type": "markdown",
   "metadata": {},
   "source": [
    "## io"
   ]
  },
  {
   "cell_type": "markdown",
   "metadata": {},
   "source": [
    "Interoperabilnost Scipyja s drugim alatima preko zapisa u datoteke u uobičajenim formatima, i čitanja takvih datoteka.\n",
    "(Matlab, IDL, Matrix Market, Wav, Arff, NetCDF)"
   ]
  },
  {
   "cell_type": "code",
   "execution_count": null,
   "metadata": {},
   "outputs": [],
   "source": []
  }
 ],
 "metadata": {
  "kernelspec": {
   "display_name": "Python 3",
   "language": "python",
   "name": "python3"
  },
  "language_info": {
   "codemirror_mode": {
    "name": "ipython",
    "version": 3
   },
   "file_extension": ".py",
   "mimetype": "text/x-python",
   "name": "python",
   "nbconvert_exporter": "python",
   "pygments_lexer": "ipython3",
   "version": "3.8.10"
  }
 },
 "nbformat": 4,
 "nbformat_minor": 5
}
